{
 "cells": [
  {
   "cell_type": "markdown",
   "metadata": {},
   "source": [
    "## LSTM Subject-Verb number agreement\n",
    "### Predicting if the verb for a subject should be plural or singular\n",
    "### Using Linzen et al. dataset"
   ]
  },
  {
   "cell_type": "code",
   "execution_count": 418,
   "metadata": {},
   "outputs": [
    {
     "data": {
      "text/plain": [
       "<torch._C.Generator at 0x10b3168b0>"
      ]
     },
     "execution_count": 418,
     "metadata": {},
     "output_type": "execute_result"
    }
   ],
   "source": [
    "%matplotlib inline\n",
    "\n",
    "import matplotlib\n",
    "import matplotlib.pyplot as plt\n",
    "import torch\n",
    "\n",
    "import torch.autograd as autograd\n",
    "import torch.nn as nn\n",
    "import torch.nn.functional as F\n",
    "import torch.optim as optim\n",
    "import numpy as np\n",
    "\n",
    "torch.manual_seed(1)"
   ]
  },
  {
   "cell_type": "markdown",
   "metadata": {},
   "source": [
    "## A few helper functions to read the data from the files"
   ]
  },
  {
   "cell_type": "code",
   "execution_count": 419,
   "metadata": {
    "collapsed": true
   },
   "outputs": [],
   "source": [
    "def readSentences(fileName):\n",
    "    file = open(fileName)\n",
    "    lines = file.readlines()\n",
    "    tags = []\n",
    "    sentences = []\n",
    "    for line in lines:\n",
    "        tokens = line.split(\"\\t\")\n",
    "        tags.append(tokens[0])\n",
    "        sentences.append(tokens[1].split(\"\\n\")[0])\n",
    "    return tags,sentences"
   ]
  },
  {
   "cell_type": "code",
   "execution_count": 454,
   "metadata": {
    "collapsed": true
   },
   "outputs": [],
   "source": [
    "def sampleSentences(tags,sentences,number,fraction):\n",
    "    indices = np.arange(len(sentences))\n",
    "    sample_count=number\n",
    "    if fraction:\n",
    "        sample_count = int(len(sentences)*number)\n",
    "    sample_indices=np.random.choice(indices,sample_count,replace=False)\n",
    "    sample_tags = []\n",
    "    sample_sentences = []\n",
    "    for i in sample_indices:\n",
    "        sample_tags.append(tags[i])\n",
    "        sample_sentences.append(sentences[i])\n",
    "    return sample_tags,sample_sentences"
   ]
  },
  {
   "cell_type": "code",
   "execution_count": 468,
   "metadata": {
    "collapsed": true
   },
   "outputs": [],
   "source": [
    "def sampleTestSentences(tags,sentences,number,fraction,max_size):\n",
    "    sample_count=number\n",
    "    if fraction:\n",
    "        sample_count = int(len(sentences)*number)\n",
    "    sample_tags = []\n",
    "    sample_sentences = []\n",
    "    for i in range(len(sentences)):\n",
    "        if len(sentences[i].split(\" \"))>max_length:\n",
    "            continue\n",
    "        if len(sample_sentences)==sample_count:\n",
    "            break\n",
    "        sample_tags.append(tags[i])\n",
    "        sample_sentences.append(sentences[i])\n",
    "    return sample_tags,sample_sentences"
   ]
  },
  {
   "cell_type": "code",
   "execution_count": 421,
   "metadata": {
    "collapsed": true
   },
   "outputs": [],
   "source": [
    "def processTrainingSet(tags,sentences):\n",
    "    word_to_idx = {}\n",
    "    idx_to_word = {}\n",
    "    vocabulary = {}\n",
    "    tag_to_idx = {}\n",
    "    idx_to_tag = {}\n",
    "    word_idx = 1\n",
    "    tag_idx = 0\n",
    "    max_length = 0\n",
    "    for sentence in sentences:\n",
    "        if(len(sentence.split(\" \"))>max_length):\n",
    "            max_length = len(sentence.split(\" \"))\n",
    "        for word in sentence.split(\" \"):\n",
    "            if word not in vocabulary:\n",
    "                vocabulary[word] = 1\n",
    "                word_to_idx[word] = word_idx\n",
    "                idx_to_word[word_idx] = word\n",
    "                word_idx+=1\n",
    "            else:\n",
    "                vocabulary[word]+=1\n",
    "    for tag in tags:\n",
    "        if tag not in tag_to_idx:\n",
    "            tag_to_idx[tag] = tag_idx\n",
    "            idx_to_tag[tag_idx] = tag\n",
    "            tag_idx+=1\n",
    "    vocabulary[\"OOV\"] = 1\n",
    "    word_to_idx[\"OOV\"] = word_idx\n",
    "    idx_to_word[word_idx] = \"OOV\"\n",
    "    \n",
    "    return vocabulary,word_to_idx,idx_to_word,tag_to_idx,idx_to_tag,max_length\n",
    "                   "
   ]
  },
  {
   "cell_type": "markdown",
   "metadata": {},
   "source": [
    "## The model and its trainModel( ) function"
   ]
  },
  {
   "cell_type": "code",
   "execution_count": 429,
   "metadata": {
    "collapsed": true
   },
   "outputs": [],
   "source": [
    "class LSTMNumberPredictor(nn.Module):\n",
    "\n",
    "    def __init__(self, embedding_dim, hidden_dim, vocab_size, tagset_size,max_sent_length,batch_size):\n",
    "        super(LSTMNumberPredictor, self).__init__()\n",
    "        self.hidden_dim = hidden_dim\n",
    "        self.word_embeddings = nn.Embedding(vocab_size+1, embedding_dim)\n",
    "        self.lstm = nn.LSTM(embedding_dim, hidden_dim,batch_first=True)\n",
    "        self.hidden2tag = nn.Linear(hidden_dim, tagset_size)\n",
    "        self.batch_size = batch_size\n",
    "        self.hidden = self.init_hidden()\n",
    "\n",
    "    def init_hidden(self):\n",
    "        return (autograd.Variable(torch.zeros(1, self.batch_size, self.hidden_dim)),\n",
    "                autograd.Variable(torch.zeros(1, self.batch_size, self.hidden_dim)))\n",
    "\n",
    "    def forward(self, input_seqs,input_sizes,batch_size):\n",
    "        embeds = self.word_embeddings(input_seqs)\n",
    "        padded_seq=nn.utils.rnn.pack_padded_sequence(embeds,input_sizes,batch_first=True)\n",
    "        lstm_out, self.hidden = self.lstm(padded_seq, self.hidden)\n",
    "        out = self.hidden2tag(self.hidden[0])\n",
    "        return out"
   ]
  },
  {
   "cell_type": "code",
   "execution_count": 430,
   "metadata": {
    "collapsed": true
   },
   "outputs": [],
   "source": [
    "def prepare_sequence(sentence, word_to_idx,max_length):\n",
    "    sentence = sentence.split(\" \")\n",
    "    idxs = []\n",
    "    for w in sentence:\n",
    "        if w in word_to_idx:\n",
    "            idxs.append(word_to_idx[w])\n",
    "        else:\n",
    "            idxs.append(word_to_idx[\"OOV\"])\n",
    "        \n",
    "    size = len(idxs)\n",
    "    while(len(idxs)!=max_length):\n",
    "        idxs.append(0)\n",
    "    tensor = torch.LongTensor(idxs)\n",
    "    return autograd.Variable(tensor),size"
   ]
  },
  {
   "cell_type": "code",
   "execution_count": 458,
   "metadata": {
    "collapsed": true
   },
   "outputs": [],
   "source": [
    "def trainModel(embedding_dim,hidden_dim,tagset_size,batch_size,dev_size,t_tags,t_sents,v_tags,v_sents,epochs,print_every_epoch,early_stop,sample_dev,learning_rate):\n",
    "    vocabulary,word_to_idx,idx_to_word,tag_to_idx,idx_to_tag,max_length = processTrainingSet(t_tags,t_sents)\n",
    "    vocab_size = len(vocabulary)\n",
    "    \n",
    "    model = LSTMNumberPredictor(embedding_dim,hidden_dim,vocab_size,tagset_size,max_length,batch_size)\n",
    "    loss_function = nn.CrossEntropyLoss()\n",
    "    optimizer = optim.Adam(model.parameters(), lr=learning_rate,weight_decay=0.001)\n",
    "    train_loss_history = []\n",
    "    dev_loss_history = []\n",
    "    dev_acc_history = []\n",
    "    prev_dev_loss=-1\n",
    "    softmax = nn.Softmax(dim=1)\n",
    "    \n",
    "    \n",
    "    for epoch in range(epochs):\n",
    "        epoch_train_loss = torch.Tensor([0])\n",
    "        epoch_dev_loss = torch.Tensor([0])\n",
    "        train_minibatches = 0\n",
    "        dev_minibatches = 0\n",
    "        correct =0.0\n",
    "        total = 0.0\n",
    "        dev_sents = []\n",
    "        dev_tags = []\n",
    "        test_sents = []\n",
    "        test_tags = []\n",
    "        \n",
    "        if sample_dev:\n",
    "            dev_indexes = np.random.choice(range(len(t_sents)),dev_size,replace=False)\n",
    "            dev_sents = [t_sents[i] for i in dev_indexes]\n",
    "            dev_tags = [t_tags[i] for i in dev_indexes]\n",
    "            test_sents = [i for j, i in enumerate(t_sents) if j not in dev_indexes]\n",
    "            test_tags = [i for j, i in enumerate(t_tags) if j not in dev_indexes]\n",
    "        else:\n",
    "            dev_sents = v_sents\n",
    "            dev_tags = v_tags\n",
    "            test_sents = t_sents\n",
    "            test_tags = t_tags\n",
    "\n",
    "        index = 0\n",
    "        \n",
    "        while(index+batch_size<len(test_sents)):\n",
    "            minibatch = test_sents[index:index+batch_size]\n",
    "            \n",
    "            input_seqs = []\n",
    "            input_sizes = []\n",
    "            for sen in minibatch:\n",
    "                sen_seq,size = prepare_sequence(sen, word_to_idx,max_length)\n",
    "                input_seqs.append(sen_seq)\n",
    "                input_sizes.append(size)\n",
    "            \n",
    "            \n",
    "            sorted_idx = np.argsort(input_sizes)[::-1]\n",
    "            input_sizes=[input_sizes[i] for i in sorted_idx]\n",
    "            input_seqs = [input_seqs[i] for i in sorted_idx]\n",
    "            input_seqs = torch.cat(input_seqs,0).view(batch_size,max_length)\n",
    "            tags = [tag_to_idx[test_tags[i]] for i in range(index,index+batch_size)]\n",
    "            tags = [tags[i] for i in sorted_idx]\n",
    "            tags_seq = autograd.Variable(torch.LongTensor(tags))\n",
    "            \n",
    "            \n",
    "            optimizer.zero_grad()\n",
    "            model.hidden = model.init_hidden()\n",
    "            out = model(input_seqs,input_sizes,batch_size)         \n",
    "            loss = loss_function(out[0],tags_seq)\n",
    "            loss.backward()\n",
    "            optimizer.step()\n",
    "            epoch_train_loss+=loss.data\n",
    "            index+=batch_size\n",
    "            train_minibatches+=1\n",
    "            \n",
    "        index=0\n",
    "        train_loss_history.append(epoch_train_loss[0]/train_minibatches)\n",
    "        \n",
    "        while(index+batch_size<len(dev_sents)):\n",
    "            minibatch = dev_sents[index:index+batch_size]\n",
    "            dev_input_seqs = []\n",
    "            dev_input_sizes = []\n",
    "            for dev_sen in minibatch:\n",
    "                sen_seq,size = prepare_sequence(dev_sen, word_to_idx,max_length)\n",
    "                dev_input_seqs.append(sen_seq)\n",
    "                dev_input_sizes.append(size)\n",
    "            dev_sorted_idx = np.argsort(dev_input_sizes)[::-1]\n",
    "            dev_input_sizes=[dev_input_sizes[i] for i in dev_sorted_idx]\n",
    "            dev_input_seqs = [dev_input_seqs[i] for i in dev_sorted_idx]\n",
    "            dev_input_seqs = torch.cat(dev_input_seqs,0).view(batch_size,max_length)\n",
    "            d_tags = [tag_to_idx[dev_tags[i]] for i in range(index,index+batch_size)]\n",
    "            d_tags = [d_tags[i] for i in dev_sorted_idx]\n",
    "            dev_tags_seq = autograd.Variable(torch.LongTensor(d_tags))\n",
    "            model.hidden = model.init_hidden()\n",
    "            dev_out = model(dev_input_seqs,dev_input_sizes,batch_size)\n",
    "            dev_loss = loss_function(dev_out[0],dev_tags_seq)\n",
    "            epoch_dev_loss+=dev_loss.data\n",
    "            dev_minibatches+=1\n",
    "            index+=batch_size\n",
    "            \n",
    "            total+=len(d_tags)\n",
    "            sm = softmax(dev_out[0])\n",
    "            values, d_indices = sm.max(1)\n",
    "            d_correct = (d_indices == dev_tags_seq).sum()\n",
    "            correct+=int(d_correct)\n",
    "        \n",
    "        dev_loss_history.append(epoch_dev_loss[0]/dev_minibatches)\n",
    "        dev_acc_history.append(float(int(correct)/int(total)*100.0))\n",
    "        \n",
    "        if(epoch%5==0 and early_stop):\n",
    "            if(prev_dev_loss!=-1 and prev_dev_loss<(epoch_dev_loss[0]/dev_minibatches)):\n",
    "                print(\"Early Stopping!\")\n",
    "            else:\n",
    "                prev_dev_loss=(epoch_dev_loss[0]/dev_minibatches)\n",
    "            \n",
    "            \n",
    "        if print_every_epoch:\n",
    "            print(\"Epoch \"+str(epoch)+\" Done\")\n",
    "            print(\"Train Loss : \"+str(epoch_train_loss[0]/train_minibatches))\n",
    "            print(\"Dev Loss : \"+str(epoch_dev_loss[0]/dev_minibatches))\n",
    "            print(\"Dev Accuracy : \"+str(float(int(correct)/int(total)*100.0))+\"%\")\n",
    "\n",
    "    \n",
    "    \n",
    "    return model,train_loss_history,dev_loss_history,dev_acc_history\n"
   ]
  },
  {
   "cell_type": "markdown",
   "metadata": {},
   "source": [
    "### Training the Model\n",
    "### Note that the Test data is composed of sentences and a number that defines the singular/plural nature of the verb that follows the sentence\n",
    "### Model is expected to learn 1) Syntactic subjecthood 2) Subject-Verb agreement"
   ]
  },
  {
   "cell_type": "code",
   "execution_count": 441,
   "metadata": {
    "collapsed": true
   },
   "outputs": [],
   "source": [
    "train_tags,train_sentences = readSentences(\"data/numpred.train\")\n",
    "t_tags,t_sents = sampleSentences(train_tags,train_sentences,100,False)\n",
    "v_tags,v_sents = sampleSentences(train_tags,train_sentences,100,False)\n",
    "\n",
    "embedding_dim = 50\n",
    "hidden_dim = 50\n",
    "tagset_size=2\n",
    "batch_size = 20\n",
    "epochs = 50\n",
    "dev_size = 100\n",
    "print_every_epoch=False\n",
    "early_stop=False\n",
    "sample_dev=False\n",
    "learning_rate = 0.001"
   ]
  },
  {
   "cell_type": "code",
   "execution_count": 442,
   "metadata": {
    "collapsed": true
   },
   "outputs": [],
   "source": [
    "model,train_loss_history,dev_loss_history,dev_acc_history=trainModel(embedding_dim,hidden_dim,tagset_size,batch_size,dev_size,t_tags,t_sents,v_tags,v_sents,epochs,print_every_epoch,early_stop,sample_dev,learning_rate)"
   ]
  },
  {
   "cell_type": "code",
   "execution_count": 443,
   "metadata": {},
   "outputs": [
    {
     "data": {
      "image/png": "[encoded data removed]",
      "text/plain": [
       "<matplotlib.figure.Figure at 0x116749ef0>"
      ]
     },
     "metadata": {},
     "output_type": "display_data"
    }
   ],
   "source": [
    "plt.plot(np.arange(epochs),train_loss_history)\n",
    "plt.title('Epochs vs Training Loss')\n",
    "plt.grid()\n",
    "plt.xlabel(\"Epoch\")\n",
    "plt.ylabel(\"Train Loss\")\n",
    "plt.show()"
   ]
  },
  {
   "cell_type": "markdown",
   "metadata": {},
   "source": [
    "## We are overfitting"
   ]
  },
  {
   "cell_type": "code",
   "execution_count": 444,
   "metadata": {},
   "outputs": [
    {
     "data": {
      "image/png": "[encoded data removed]",
      "text/plain": [
       "<matplotlib.figure.Figure at 0x115e769e8>"
      ]
     },
     "metadata": {},
     "output_type": "display_data"
    }
   ],
   "source": [
    "plt.plot(np.arange(epochs),dev_acc_history)\n",
    "plt.title('Epochs vs Dev Accuracy')\n",
    "plt.grid()\n",
    "plt.xlabel(\"Epoch\")\n",
    "plt.ylabel(\"Dev Accuracy %\")\n",
    "plt.show()"
   ]
  },
  {
   "cell_type": "markdown",
   "metadata": {},
   "source": [
    "### Early stopping helps to stop the training if the validation set error starts to rise. Helps to avoid over-fitting"
   ]
  },
  {
   "cell_type": "code",
   "execution_count": 461,
   "metadata": {},
   "outputs": [
    {
     "name": "stdout",
     "output_type": "stream",
     "text": [
      "Trainging for Learning Rate: 0.01\n",
      "Trainging for Learning Rate: 0.001\n",
      "Trainging for Learning Rate: 0.002\n",
      "Trainging for Learning Rate: 0.005\n",
      "Trainging for Learning Rate: 0.0001\n"
     ]
    }
   ],
   "source": [
    "train_tags,train_sentences = readSentences(\"data/numpred.train\")\n",
    "t_tags,t_sents = sampleSentences(train_tags,train_sentences,0.1,True)\n",
    "embedding_dim = 50\n",
    "hidden_dim = 50\n",
    "tagset_size=2\n",
    "batch_size = 20\n",
    "epochs = 10\n",
    "dev_size = 3000\n",
    "print_every_epoch=False\n",
    "early_stop=True\n",
    "sample_dev=True\n",
    "learning_rates = [0.01,0.001,0.002,0.005,0.0001]\n",
    "train_loss_histories =[]\n",
    "dev_acc_histories=[]\n",
    "models = []\n",
    "for learning_rate in learning_rates:\n",
    "    print(\"Trainging for Learning Rate: \"+str(learning_rate))\n",
    "    model,train_loss_history,dev_loss_history,dev_acc_history=trainModel(embedding_dim,hidden_dim,tagset_size,batch_size,dev_size,t_tags,t_sents,[],[],epochs,print_every_epoch,early_stop,sample_dev,learning_rate)\n",
    "    train_loss_histories.append(train_loss_history)\n",
    "    dev_acc_histories.append(dev_acc_history)\n",
    "    models.append(model)"
   ]
  },
  {
   "cell_type": "markdown",
   "metadata": {},
   "source": [
    "## Choosing the best learning rate"
   ]
  },
  {
   "cell_type": "code",
   "execution_count": 463,
   "metadata": {},
   "outputs": [
    {
     "data": {
      "image/png": "[encoded data removed]",
      "text/plain": [
       "<matplotlib.figure.Figure at 0x113623f98>"
      ]
     },
     "metadata": {},
     "output_type": "display_data"
    }
   ],
   "source": [
    "x = np.arange(epochs)\n",
    "plt.plot(x,dev_acc_histories[0])\n",
    "plt.plot(x,dev_acc_histories[1])\n",
    "plt.plot(x,dev_acc_histories[2])\n",
    "plt.plot(x,dev_acc_histories[3])\n",
    "plt.plot(x,dev_acc_histories[4])\n",
    "plt.title('Dev Accuracy vs Epochs for different Learning Rates')\n",
    "plt.grid()\n",
    "plt.xlabel(\"Epoch\")\n",
    "plt.ylabel(\"Dev Accuracy %\")\n",
    "\n",
    "plt.legend(['LR = 0.01', 'LR = 0.001', 'LR = 0.002', 'LR = 0.005','LR = 0.0001'], loc='upper left')\n",
    "plt.show()"
   ]
  },
  {
   "cell_type": "code",
   "execution_count": 464,
   "metadata": {},
   "outputs": [
    {
     "name": "stdout",
     "output_type": "stream",
     "text": [
      "[81.00671140939598, 82.81879194630872, 86.64429530201342, 90.0, 92.75167785234899, 94.36241610738256, 95.40268456375838, 96.84563758389262, 97.58389261744966, 97.11409395973153]\n",
      "[0.498168890719337, 0.41563890487861976, 0.362001395182874, 0.28192138671875, 0.20780579050026554, 0.14632993094183253, 0.10592964595460294, 0.08852904427243473, 0.07380997686778497, 0.0597946972241342]\n"
     ]
    }
   ],
   "source": [
    "print(dev_acc_histories[1])\n",
    "print(train_loss_histories[1])"
   ]
  },
  {
   "cell_type": "markdown",
   "metadata": {},
   "source": [
    "### Count of attractors are the number of nouns of the opposite number that appear between the subject and verb. More the number of these attractors, more is the model confused"
   ]
  },
  {
   "cell_type": "code",
   "execution_count": 483,
   "metadata": {
    "collapsed": true
   },
   "outputs": [],
   "source": [
    "def calculateTestError(test_tags,test_sents,batch_size,word_to_idx,tag_to_idx,max_length,model):\n",
    "    index=0\n",
    "    t_minibatches = 0\n",
    "    correct = 0\n",
    "    total = 0\n",
    "    total_loss = 0\n",
    "    softmax = nn.Softmax(dim=1)\n",
    "    while(index+batch_size<len(test_sents)):\n",
    "        minibatch = test_sents[index:index+batch_size]\n",
    "        input_seqs = []\n",
    "        input_sizes = []\n",
    "        for sen in minibatch:\n",
    "            sen_seq,size = prepare_sequence(sen, word_to_idx,max_length)\n",
    "            input_seqs.append(sen_seq)\n",
    "            input_sizes.append(size)\n",
    "        sorted_idx = np.argsort(input_sizes)[::-1]\n",
    "        input_sizes=[input_sizes[i] for i in sorted_idx]\n",
    "        input_seqs = [input_seqs[i] for i in sorted_idx]\n",
    "        input_seqs = torch.cat(input_seqs,0).view(batch_size,max_length)\n",
    "        t_tags = [tag_to_idx[test_tags[i]] for i in range(index,index+batch_size)]\n",
    "        t_tags = [t_tags[i] for i in sorted_idx]\n",
    "        tags_seq = autograd.Variable(torch.LongTensor(t_tags))\n",
    "        model.hidden = model.init_hidden()\n",
    "        t_out = model(input_seqs,input_sizes,batch_size)\n",
    "        t_loss = loss_function(t_out[0],tags_seq)\n",
    "        total_loss+=t_loss.data\n",
    "        t_minibatches+=1\n",
    "        index+=batch_size\n",
    "            \n",
    "        total+=len(t_tags)\n",
    "        sm = softmax(t_out[0])\n",
    "        values, t_indices = sm.max(1)\n",
    "        t_correct = (t_indices == tags_seq).sum()\n",
    "        correct+=int(t_correct)\n",
    "    return float(correct/total*100.0)\n",
    "    "
   ]
  },
  {
   "cell_type": "code",
   "execution_count": 494,
   "metadata": {
    "collapsed": true
   },
   "outputs": [],
   "source": [
    "vocabulary,word_to_idx,idx_to_word,tag_to_idx,idx_to_tag,max_length = processTrainingSet(t_tags,t_sents)\n",
    "model = models[1]\n",
    "test_tags0,test_sentences0 = readSentences(\"data/numpred.test.0\")\n",
    "test_tags1,test_sentences1 = readSentences(\"data/numpred.test.1\")\n",
    "test_tags2,test_sentences2 = readSentences(\"data/numpred.test.2\")\n",
    "test_tags3,test_sentences3 = readSentences(\"data/numpred.test.3\")\n",
    "test_tags4,test_sentences4 = readSentences(\"data/numpred.test.4\")\n",
    "test_tags5,test_sentences5 = readSentences(\"data/numpred.test.5\")\n",
    "\n",
    "test_tags0,test_sentences0 = sampleTestSentences(test_tags0,test_sentences0,2000,False,max_length)\n",
    "test_tags1,test_sentences1 = sampleTestSentences(test_tags1,test_sentences1,2000,False,max_length)\n",
    "test_tags2,test_sentences2 = sampleTestSentences(test_tags2,test_sentences2,2000,False,max_length)\n",
    "test_tags3,test_sentences3 = sampleTestSentences(test_tags3,test_sentences3,2000,False,max_length)\n",
    "test_tags4,test_sentences4 = sampleTestSentences(test_tags4,test_sentences4,1,True,max_length)\n",
    "test_tags5,test_sentences5 = sampleTestSentences(test_tags5,test_sentences5,1,True,max_length)"
   ]
  },
  {
   "cell_type": "code",
   "execution_count": 503,
   "metadata": {
    "collapsed": true
   },
   "outputs": [],
   "source": [
    "acc0 =calculateTestError(test_tags0,test_sentences0,20,word_to_idx,tag_to_idx,max_length,model)\n",
    "acc1 =calculateTestError(test_tags1,test_sentences1,20,word_to_idx,tag_to_idx,max_length,model)\n",
    "acc2 =calculateTestError(test_tags2,test_sentences2,20,word_to_idx,tag_to_idx,max_length,model)\n",
    "acc3 =calculateTestError(test_tags3,test_sentences3,20,word_to_idx,tag_to_idx,max_length,model)\n",
    "acc4 =calculateTestError(test_tags4,test_sentences4,20,word_to_idx,tag_to_idx,max_length,model)\n",
    "acc5 =calculateTestError(test_tags5,test_sentences5,20,word_to_idx,tag_to_idx,max_length,model)\n"
   ]
  },
  {
   "cell_type": "code",
   "execution_count": 504,
   "metadata": {
    "collapsed": true
   },
   "outputs": [],
   "source": [
    "acc0 = 100 - acc0\n",
    "acc1 = 100 - acc1\n",
    "acc2 = 100 - acc2\n",
    "acc3 = 100 - acc3\n",
    "acc4 = 100 - acc4\n",
    "acc5 = 100 - acc5"
   ]
  },
  {
   "cell_type": "code",
   "execution_count": 505,
   "metadata": {},
   "outputs": [
    {
     "data": {
      "image/png": "[encoded data removed]",
      "text/plain": [
       "<matplotlib.figure.Figure at 0x116d749e8>"
      ]
     },
     "metadata": {},
     "output_type": "display_data"
    }
   ],
   "source": [
    "x = np.arange(6)\n",
    "plt.plot(x,[acc0,acc1,acc2,acc3,acc4,acc5])\n",
    "plt.title('Error % vs Count of attractors')\n",
    "plt.grid()\n",
    "plt.xlabel(\"Attractor Count\")\n",
    "plt.ylabel(\"Error%\")\n",
    "plt.show()"
   ]
  },
  {
   "cell_type": "markdown",
   "metadata": {},
   "source": [
    "### Finding some incorrect results. Note the Test accuracy is about 96% in the case of no attractors."
   ]
  },
  {
   "cell_type": "code",
   "execution_count": 519,
   "metadata": {
    "collapsed": true
   },
   "outputs": [],
   "source": [
    "def findIncorrectResults(test_tags,test_sents,batch_size,word_to_idx,tag_to_idx,max_length,model):\n",
    "    index=0\n",
    "    t_minibatches = 0\n",
    "    correct = 0\n",
    "    total = 0\n",
    "    total_loss = 0\n",
    "    softmax = nn.Softmax(dim=1)\n",
    "    sentences = []\n",
    "    while(index+batch_size<len(test_sents)):\n",
    "        minibatch = test_sents[index:index+batch_size]\n",
    "        input_seqs = []\n",
    "        input_sizes = []\n",
    "        for sen in minibatch:\n",
    "            sen_seq,size = prepare_sequence(sen, word_to_idx,max_length)\n",
    "            input_seqs.append(sen_seq)\n",
    "            input_sizes.append(size)\n",
    "        sorted_idx = np.argsort(input_sizes)[::-1]\n",
    "        input_sizes=[input_sizes[i] for i in sorted_idx]\n",
    "        input_seqs = [input_seqs[i] for i in sorted_idx]\n",
    "        input_seqss = torch.cat(input_seqs,0).view(batch_size,max_length)\n",
    "        t_tags = [tag_to_idx[test_tags[i]] for i in range(index,index+batch_size)]\n",
    "        t_tags = [t_tags[i] for i in sorted_idx]\n",
    "        tags_seq = autograd.Variable(torch.LongTensor(t_tags))\n",
    "        model.hidden = model.init_hidden()\n",
    "        t_out = model(input_seqss,input_sizes,batch_size)\n",
    "        t_loss = loss_function(t_out[0],tags_seq)\n",
    "        total_loss+=t_loss.data\n",
    "        t_minibatches+=1\n",
    "        index+=batch_size\n",
    "            \n",
    "        total+=len(t_tags)\n",
    "        sm = softmax(t_out[0])\n",
    "        values, t_indices = sm.max(1)\n",
    "        t_correct = (t_indices == tags_seq).sum()\n",
    "        correct+=int(t_correct)\n",
    "        for i in range(20):\n",
    "            if int(t_indices[i])!=int(tags_seq[i]):\n",
    "                sentences.append(minibatch[sorted_idx[i]])\n",
    "        if(len(sentences)==10):\n",
    "            break\n",
    "    return sentences"
   ]
  },
  {
   "cell_type": "code",
   "execution_count": 525,
   "metadata": {},
   "outputs": [
    {
     "data": {
      "text/plain": [
       "['the JJ NN family NNP contains VBZ which as adults',\n",
       " 'NN became the schools first',\n",
       " 'capital letters',\n",
       " 'although addiction',\n",
       " 'this album cover ( front only ) is presented at low resolution and does not VB upon the copyright holders',\n",
       " 'the regulations',\n",
       " 'its NN fishing harbour still',\n",
       " 'the specialists',\n",
       " 'because of his vast knowledge of the JJ world , he knows exactly what he needs to do to have his talents',\n",
       " 'NNP tubes generally']"
      ]
     },
     "execution_count": 525,
     "metadata": {},
     "output_type": "execute_result"
    }
   ],
   "source": [
    "sentences =findIncorrectResults(test_tags0,test_sentences0,20,word_to_idx,tag_to_idx,max_length,model)\n",
    "sentences"
   ]
  },
  {
   "cell_type": "markdown",
   "metadata": {},
   "source": [
    "### Let's see PCA visualisation of plural and singual words from the model's embedding matrix."
   ]
  },
  {
   "cell_type": "code",
   "execution_count": 550,
   "metadata": {
    "collapsed": true
   },
   "outputs": [],
   "source": [
    "from nltk.corpus import brown\n",
    "import nltk\n",
    "import operator\n",
    "from sklearn.decomposition import PCA as sklearnPCA\n",
    "\n",
    "\n",
    "tagged_words = brown.tagged_words()\n",
    "singular = [\"michael\", \"actor\", \"man\", \"book\", \"prison\"]\n",
    "plural = [\"regions\", \"programs\", \"homes\", \"tigers\", \"keywords\"]"
   ]
  },
  {
   "cell_type": "code",
   "execution_count": 548,
   "metadata": {
    "collapsed": true
   },
   "outputs": [],
   "source": [
    "NN = []\n",
    "NNS = []\n",
    "for (word,tag) in tagged_words:\n",
    "    if tag ==\"NN\":\n",
    "        NN.append(word)\n",
    "    if tag == \"NNS\":\n",
    "        NNS.append(word)"
   ]
  },
  {
   "cell_type": "code",
   "execution_count": 561,
   "metadata": {
    "collapsed": true
   },
   "outputs": [],
   "source": [
    "fdistNN = nltk.FreqDist(w.lower() for w in NN)\n",
    "sorted_NN = sorted(fdistNN.items(), key=operator.itemgetter(1),reverse=True)\n",
    "fdistNNS = nltk.FreqDist(w.lower() for w in NNS)\n",
    "sorted_NNS = sorted(fdistNNS.items(), key=operator.itemgetter(1),reverse=True)\n",
    "\n",
    "for (NNItem,val) in sorted_NN:\n",
    "    singular.append(NNItem)\n",
    "    if len(singular) >100:\n",
    "        break\n",
    "for (NNSItem,val) in sorted_NNS:\n",
    "    plural.append(NNSItem)\n",
    "    if len(plural) >100:\n",
    "        break\n"
   ]
  },
  {
   "cell_type": "markdown",
   "metadata": {},
   "source": [
    "### Section 3.9"
   ]
  },
  {
   "cell_type": "code",
   "execution_count": 595,
   "metadata": {
    "collapsed": true
   },
   "outputs": [],
   "source": [
    "model = models[1]\n",
    "embeddings=model.word_embeddings\n",
    "singular_idx = []\n",
    "plural_idx = []\n",
    "for i in singular:\n",
    "    if i in word_to_idx:\n",
    "        singular_idx.append(word_to_idx[i])\n",
    "    else:\n",
    "        singular_idx.append(word_to_idx[\"OOV\"])\n",
    "\n",
    "for i in plural:\n",
    "    if i in word_to_idx:\n",
    "        plural_idx.append(word_to_idx[i])\n",
    "    else:\n",
    "        plural_idx.append(word_to_idx[\"OOV\"])\n",
    "\n",
    "singular_matrix = embeddings(autograd.Variable(torch.LongTensor(singular_idx)))\n",
    "plural_matrix = embeddings(autograd.Variable(torch.LongTensor(plural_idx)))\n",
    "\n"
   ]
  },
  {
   "cell_type": "code",
   "execution_count": 596,
   "metadata": {
    "collapsed": true
   },
   "outputs": [],
   "source": [
    "singular_matrix = singular_matrix.data.numpy()\n",
    "plural_matrix = plural_matrix.data.numpy()\n",
    "pca = sklearnPCA(n_components=2)\n",
    "sing_pca = pca.fit_transform(singular_matrix)\n",
    "plu_pca = pca.fit_transform(plural_matrix)"
   ]
  },
  {
   "cell_type": "code",
   "execution_count": 597,
   "metadata": {
    "collapsed": true
   },
   "outputs": [],
   "source": [
    "sing_x = []\n",
    "sing_y = []\n",
    "plu_x = []\n",
    "plu_y = []\n",
    "for i in sing_pca:\n",
    "    sing_x.append(i[0])\n",
    "    sing_y.append(i[1])\n",
    "    \n",
    "for i in plu_pca:\n",
    "    plu_x.append(i[0])\n",
    "    plu_y.append(i[1])"
   ]
  },
  {
   "cell_type": "markdown",
   "metadata": {},
   "source": [
    "## Singulars and plurals in fact have different axis"
   ]
  },
  {
   "cell_type": "code",
   "execution_count": 601,
   "metadata": {},
   "outputs": [
    {
     "data": {
      "image/png": "[encoded data removed]",
      "text/plain": [
       "<matplotlib.figure.Figure at 0x114cc78d0>"
      ]
     },
     "metadata": {},
     "output_type": "display_data"
    }
   ],
   "source": [
    "fig = plt.figure()\n",
    "ax1 = fig.add_subplot(111)\n",
    "\n",
    "ax1.scatter(sing_x, sing_y, label='Singular')\n",
    "ax1.scatter(plu_x,plu_y,  label='Plural')\n",
    "plt.legend(loc='upper left');\n",
    "plt.show()"
   ]
  },
  {
   "cell_type": "code",
   "execution_count": null,
   "metadata": {
    "collapsed": true
   },
   "outputs": [],
   "source": []
  }
 ],
 "metadata": {
  "kernelspec": {
   "display_name": "Python 3",
   "language": "python",
   "name": "python3"
  },
  "language_info": {
   "codemirror_mode": {
    "name": "ipython",
    "version": 3
   },
   "file_extension": ".py",
   "mimetype": "text/x-python",
   "name": "python",
   "nbconvert_exporter": "python",
   "pygments_lexer": "ipython3",
   "version": "3.6.1"
  }
 },
 "nbformat": 4,
 "nbformat_minor": 2
}
